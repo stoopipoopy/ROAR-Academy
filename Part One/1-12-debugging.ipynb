{
 "cells": [
  {
   "cell_type": "markdown",
   "metadata": {},
   "source": [
    "**Learning Python -- The Programming Language for Artificial Intelligence and Data Science**\n",
    "\n",
    "**Lecture 12: Debugging**\n",
    "\n",
    "**By Allen Y. Yang, PhD**\n",
    "\n",
    "(c) Copyright Intelligent Racing Inc., 2021. All rights reserved. Materials may NOT be distrubted or used for any commercial purposes."
   ]
  },
  {
   "cell_type": "markdown",
   "metadata": {},
   "source": [
    "In this lecture, we will discuss analyzing Python codes when errors occur. There are three types of coding errors:\n",
    "\n",
    "    * Syntax error: It means a Python interpreter in the process of analyzing or more precisely parsing the code, fails to be able to generate executable program. \n",
    "    * Runtime error: It occurs when Python detects some illegal operations when the code is already running. Python will stop running when runtime error occurs unless explicitly be instructed what to do by the code.\n",
    "    * Logic error: It refers to the situation when a program can successful finish but its outcome is not expected. This often indicates some design problems of the code logic itself.\n",
    "\n",
    "\n",
    "Today we are going to focus on the first two errors, and we will not spend time to discuss logic error, which is a much bigger topic we should revisit as we discuss specific algorithms later in the course. In this lecture, we will also not able to cover every type of syntax and runtime errors. Instead, we will focus on the most commonly encountered errors, especially for those who are at the beginner and intermediate levels of Python programming."
   ]
  },
  {
   "cell_type": "markdown",
   "metadata": {},
   "source": [
    "* Syntax Error\n",
    "\n",
    "In the following, we will cause Python to generate syntax errors when checking the code, and will comment on how to prevent them."
   ]
  },
  {
   "cell_type": "code",
   "execution_count": null,
   "metadata": {
    "trusted": true
   },
   "outputs": [],
   "source": [
    "# Declare a code block\n",
    "\n",
    "for i in range(20):\n",
    "    print(i)\n",
    "else:\n",
    "    pass"
   ]
  },
  {
   "cell_type": "markdown",
   "metadata": {},
   "source": [
    "One of the most common syntax errors is missing colons to indicate the beginning of a new code block. In the sample code above, both the *for* statement and the *else* statement shall end with a colon mark \":\"."
   ]
  },
  {
   "cell_type": "code",
   "execution_count": null,
   "metadata": {
    "trusted": true
   },
   "outputs": [],
   "source": [
    "# Declare a list type\n",
    "\n",
    "List = ['abc', 'def']\n",
    "List(1) = List(0)"
   ]
  },
  {
   "cell_type": "markdown",
   "metadata": {},
   "source": [
    "The above sample code has two ambiguous coding errors, which may lead to more challenges when debugging the code. First, according to the variable name *List*, it seems the programmer wants to define a *list* type. However, the use of paratheses actually defines a tuple. Then in the second statement, the code attempts to assign the first element of *List* to the second. In the setting that *List* actually is a tuple and immutable, this assignment is illegal. Therefore, to fully fulfill the programmer's original design, *List* needs to be defined using sqare brackets, and also referencing a list element also shall use square brackets."
   ]
  },
  {
   "cell_type": "code",
   "execution_count": null,
   "metadata": {
    "trusted": true
   },
   "outputs": [],
   "source": [
    " # Use indentation\n",
    "\n",
    "x = 0\n",
    "while x<10:\n",
    "    x = x + 1\n",
    "    print(x)"
   ]
  },
  {
   "cell_type": "markdown",
   "metadata": {},
   "source": [
    "The sample code above emphasizes the importance of understanding properly using indentation in Python. Different from many other high-level languages such as C++ and Java, Python enforces the format of using indentations in the code. First, for the statements that belong to the top-level code block, they shall not have any indentation at all. The above statement \"x = 0\" adds a single space in the front, which leads to **IndentationError**. \n",
    "\n",
    "The second place where indentation is not properly used is inside the *while* loop, where statements belonging to the same code block should have the same indentation. In the code, the statements *x = x + 1* and *print(x)* have different amounts of indentation, which also leads to **IndentationError**. "
   ]
  },
  {
   "cell_type": "code",
   "execution_count": null,
   "metadata": {
    "trusted": true
   },
   "outputs": [],
   "source": [
    "# Using built-in methods\n",
    "String = 'Hello World!'\n",
    "String = String[::-1]"
   ]
  },
  {
   "cell_type": "markdown",
   "metadata": {},
   "source": [
    "The above code generates **AttributeError**, indicating that *reverse()* is not a built-in method of the *str* type. This is another type of syntax error where a class object does not support a function. In particular for the *str* type, it is immutable. Therefore, an internal method cannot change the variable value. To this end, reversing a string can be done by reversely assigning the string characters to a new string variable, as\n",
    "\n",
    "    new_string = String[::-1]"
   ]
  },
  {
   "cell_type": "code",
   "execution_count": null,
   "metadata": {
    "trusted": true
   },
   "outputs": [],
   "source": [
    "# Using built-in operators\n",
    "\n",
    "String = 'abcd'\n",
    "String = String + 'abcd'\n",
    "\n",
    "List = ['abcd']\n",
    "List = List.append('abcd')"
   ]
  },
  {
   "cell_type": "markdown",
   "metadata": {},
   "source": [
    "Similarly, we should pay attention about how built-in methods and operators are defined. In the above code, we first can see the \"+\" operator when defined by the *str* type deals with the concatenation of two strings of the same type. Similarly, the \"+\" operator when defined by the *list* type deals with the concatenation of two lists. Therefore, concatenating a list and a str will generate **TypeError**."
   ]
  },
  {
   "cell_type": "code",
   "execution_count": null,
   "metadata": {
    "trusted": true
   },
   "outputs": [],
   "source": [
    "# variable naming convention\n",
    "animals = ['dog', 'cat', 'pony', 'fish', 'leopard', 'rabbid', 'mouse']\n",
    "print(animals[0])"
   ]
  },
  {
   "cell_type": "markdown",
   "metadata": {},
   "source": [
    "The above example shows another most popular synatx error, namely, using undefined variable name. In this case, the code did not pay attention that the variable name *animals* in the assignment statement is all small capitals. Although it is fairly easy to detect the error in the above example, it may not be so obvious in large projects. Therefore, creating variables or classes following a naming convention can effectively mitigate the risk of encountering NameError.\n",
    "\n",
    "For variable naming, the most straightforward convention is that:\n",
    "\n",
    "    * Variables should be all small cap, with unabridged words that best describe its purpose connected in a phrase by underlines \"_\".\n",
    "    * Constant values should be all capitals, with unabridged words that best describe its purpose connected in a phrase by underlines \"_\".\n",
    "    * Class names should also use unabridged words, but should capitalize the first letter of every word."
   ]
  },
  {
   "cell_type": "code",
   "execution_count": null,
   "metadata": {
    "trusted": true
   },
   "outputs": [],
   "source": [
    "# Use of quotation marks\n",
    "wrong_string = \"Mike's story\"\n",
    "print(wrong_string)"
   ]
  },
  {
   "cell_type": "markdown",
   "metadata": {},
   "source": [
    "The above SyntaxError clearly is caused by incorrect use of quotation marks when defining a string variable. Recall that a string can be defined by a matching pair of either single or double quotation marks."
   ]
  },
  {
   "cell_type": "markdown",
   "metadata": {},
   "source": [
    "* Runtime Errors\n",
    "\n",
    "When a program contains runtime errors, the program will initially pass Python's syntax check and start running. Only when a runtime error occurs, then Python interpreter will catch the error and interrupt the program's execution, unless the interruption is handled also by the program. In the rest of the lecture, we will continue to examine some of the most typical runtime errors, and then discuss a new conditional statement specifically for catching runtime errors, called *try -- except -- else*."
   ]
  },
  {
   "cell_type": "code",
   "execution_count": null,
   "metadata": {
    "trusted": true
   },
   "outputs": [],
   "source": [
    "animals = ['dog', 'cat', 'pony', 'fish', 'leopard', 'rabbid', 'mouse']\n",
    "print(animals[7])"
   ]
  },
  {
   "cell_type": "markdown",
   "metadata": {},
   "source": [
    "The above code generates **IndexError**, which indicates the list index is out of range. This can be a common error for beginners. When we reference elements in a list, we should remember that the indexes start from zero and run until the element count - 1. Specifically for the example above, the last element of the *animals* list is animals[6]."
   ]
  },
  {
   "cell_type": "code",
   "execution_count": null,
   "metadata": {
    "trusted": true
   },
   "outputs": [],
   "source": [
    "x = 0; y = 1\n",
    "result = x / y"
   ]
  },
  {
   "cell_type": "markdown",
   "metadata": {},
   "source": [
    "The above code generates **ZeroDivisionError** because clearly the denominator *y* has value zero. In this example, we explicitly assigned *y* to be equal to zero. In practice, it is a good practice to always double check the value of the denominator before performing division."
   ]
  },
  {
   "cell_type": "code",
   "execution_count": null,
   "metadata": {
    "trusted": true
   },
   "outputs": [],
   "source": [
    "# call module functions\n",
    "from math import sqrt\n",
    "print(sqrt(9))"
   ]
  },
  {
   "cell_type": "markdown",
   "metadata": {},
   "source": [
    "The above sample code returns **NameError** with the comment that \"name 'sqrt' is not defined\". Python only includes a limited number of built-in functions, and many additional functions are provided in modules that need to be imported explicitly. In the case of *sqrt()*, it belongs to the *math* module, and the code should add\n",
    "\n",
    "    import math\n",
    "    print(math.sqrt(9))"
   ]
  },
  {
   "cell_type": "code",
   "execution_count": null,
   "metadata": {
    "trusted": true
   },
   "outputs": [],
   "source": [
    "import math\n",
    "print(math.sqrt(9))"
   ]
  },
  {
   "cell_type": "markdown",
   "metadata": {},
   "source": [
    "The above code generates **ModuleNotFoundError**. The program intended to call *math.sqrt()* function, but wrongly imported the module name *Math*. If *Math* is not defined by the code, then it is not a default Python module and therefore cannot be found."
   ]
  },
  {
   "cell_type": "code",
   "execution_count": null,
   "metadata": {
    "trusted": true
   },
   "outputs": [],
   "source": [
    "result = int('2020')"
   ]
  },
  {
   "cell_type": "markdown",
   "metadata": {},
   "source": [
    "The above code returns another common runtime error called **ValueError**. Specifically, the example attempts to convert a string that starts with a word \"year\" to an *int* result, which is not possible. Therefore, the sanity check of the *int()* function will detect this problem and return a runtime error. When we code our own custom function, it is a practice to always double check the types and values of the input arguments. Once the error is detected, the code can use the default Python runtime error message, or can also specify a custom error message, or choose to actually ignore the error entirely."
   ]
  },
  {
   "cell_type": "code",
   "execution_count": null,
   "metadata": {
    "trusted": true
   },
   "outputs": [],
   "source": [
    "f = open('myfile.txt')"
   ]
  },
  {
   "cell_type": "markdown",
   "metadata": {},
   "source": [
    "The above code returns **FileNotFoundError**. We will study how to manage computer files in Lecture 8 of this course. In here, we simply need to understand that the built-in function *open()* is responsible to acquire a read privilege, a write priviledge, or both from a file with its filename specified in the text argument. However, if the function cannot locate the file with the given filename, then Python will throw the runtime error indicating an input/output operation error."
   ]
  },
  {
   "cell_type": "markdown",
   "metadata": {},
   "source": [
    "Finally, we introduce the *try -- except -- else* statement that can catch runtime error while the try code block is running."
   ]
  },
  {
   "cell_type": "code",
   "execution_count": null,
   "metadata": {
    "trusted": true
   },
   "outputs": [],
   "source": [
    "import math\n",
    "import sys\n",
    "\n",
    "string_input = print(\"Please provide an integer limit for finding prime numbers: \", end = ' ')\n",
    "string_input = input()\n",
    "try:  # Try to catch posible error when int_limit is not an integer\n",
    "    int_limit = int(string_input)\n",
    "except: # When runtime error occurs, except will be executed\n",
    "    print(\"Not a valid integer input. Exit!\")\n",
    "else: # else means no runtime error\n",
    "    if int_limit<2:   # Testing prime only meaningful for numbers >=2\n",
    "        print(\"No prime number within the range\")\n",
    "        sys.exit()\n",
    "    for n in range(2, int_limit+1):\n",
    "        if n==2:  # Number 2 is defined as a the first prime number\n",
    "            print(n, 'is a prime number')\n",
    "            continue\n",
    "\n",
    "        # if n is > 2, test if n can be divided by two nontrivial integers\n",
    "        for x in range(2, math.ceil(math.sqrt(n)+1)):\n",
    "            if n % x == 0:\n",
    "                print(n, 'equals', x, '*', n//x)\n",
    "                break\n",
    "        else:\n",
    "            # loop fell through without finding a factor\n",
    "            print(n, 'is a prime number')\n",
    "\n"
   ]
  },
  {
   "cell_type": "markdown",
   "metadata": {},
   "source": [
    "In the above code, we put the integer type conversion of the user input inside the code block of the *try* statement. If any runtime error occurs, instead of using the default Python error message, Python will defer to running the *except* code block. We see that in the example, the *except* code block merely prints out an error message, and does not cause the program to be interrupted. \n",
    "\n",
    "If the *try* code block ends normally, then the *else* code block will be executed subsequently. In this example, if the user's input is indeed an integer text, then the program to verify is the input interger is a prime number.\n",
    "\n",
    "Finally, rather than using *except* to catch all runtime errors, the statement can specify what kind of error to catch in the *except* code block. Let us see the example below:"
   ]
  },
  {
   "cell_type": "code",
   "execution_count": null,
   "metadata": {
    "trusted": true
   },
   "outputs": [],
   "source": [
    "x = 0; y = 0\n",
    "\n",
    "try:\n",
    "    result = x / y\n",
    "except ZeroDivisionError:\n",
    "    print('Warning: Divided by zero!')\n",
    "    result = None\n",
    "finally:\n",
    "    print(result)"
   ]
  },
  {
   "cell_type": "markdown",
   "metadata": {},
   "source": [
    "In the code above, we see that instead of exiting the Python code when ZeroDivisionError occurs, the code is able to manually catch the error in the *except* code block, and only print out a warning message then hard set the *result* to be None. To the end, we also see the use of a new statement called **finally**. The *finally* statement, if exists in the *try -- except -- else* combination, follows either *except* or *else* code blocks, and its code block is the last code block to be executed after the program enters the *try* code block.\n",
    "\n",
    "An important rule to remember for *finally* is that Python requires the *finally* code block, again if exists, must be executed at the end of the *try* combination. Even if the code flow exits from within the *try* block, the *execpt* block, or the *else* block, the *finally* code block must be executed."
   ]
  }
 ],
 "metadata": {
  "kaggle": {
   "accelerator": "none",
   "dataSources": [],
   "dockerImageVersionId": 30055,
   "isGpuEnabled": false,
   "isInternetEnabled": true,
   "language": "python",
   "sourceType": "notebook"
  },
  "kernelspec": {
   "display_name": "Python 3",
   "language": "python",
   "name": "python3"
  },
  "language_info": {
   "codemirror_mode": {
    "name": "ipython",
    "version": 3
   },
   "file_extension": ".py",
   "mimetype": "text/x-python",
   "name": "python",
   "nbconvert_exporter": "python",
   "pygments_lexer": "ipython3",
   "version": "3.6.4"
  }
 },
 "nbformat": 4,
 "nbformat_minor": 4
}
